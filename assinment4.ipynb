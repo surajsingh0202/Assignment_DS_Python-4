{
 "cells": [
  {
   "cell_type": "code",
   "execution_count": 3,
   "id": "3899bb24-2bb2-43e7-a78b-6366f43bf10a",
   "metadata": {},
   "outputs": [
    {
     "name": "stdout",
     "output_type": "stream",
     "text": [
      "Original list of tuples:\n",
      "[('Sachin Tendulkar', 34357), ('Ricky Ponting', 27483), ('Jack Kallis', 25534), ('Virat Kohli', 24936)]\n",
      "\n",
      "Sorting the List of Tuples:\n",
      "[('Virat Kohli', 24936), ('Jack Kallis', 25534), ('Ricky Ponting', 27483), ('Sachin Tendulkar', 34357)]\n"
     ]
    }
   ],
   "source": [
    "\"\"\"Q1. Create a python program to sort the given list of tuples based on integer value using a\n",
    "lambda function.\n",
    "\"\"\"\n",
    "\n",
    "\n",
    "\n",
    "player = [('Sachin Tendulkar', 34357), ('Ricky Ponting', 27483), ('Jack Kallis', 25534), ('Virat Kohli', 24936)]\n",
    "\n",
    "\n",
    "print(\"Original list of tuples:\")\n",
    "print(player)\n",
    "\n",
    "\n",
    "player.sort(key=lambda x: x[1])\n",
    "\n",
    "\n",
    "print(\"\\nSorting the List of Tuples:\")\n",
    "print(player) "
   ]
  },
  {
   "cell_type": "code",
   "execution_count": 5,
   "id": "b7e9ae01-e9cf-419a-b386-60705be7f50a",
   "metadata": {},
   "outputs": [
    {
     "data": {
      "text/plain": [
       "[1, 4, 9, 16, 25, 36, 49, 64, 81, 100]"
      ]
     },
     "execution_count": 5,
     "metadata": {},
     "output_type": "execute_result"
    }
   ],
   "source": [
    "\"\"\"Q2. Write a Python Program to find the squares of all the numbers in the given list of integers using\n",
    "lambda and map functions.\"\"\"\n",
    "\n",
    "l = [1, 2, 3, 4, 5, 6, 7, 8, 9, 10]\n",
    "list(map(lambda x: x**2, l))"
   ]
  },
  {
   "cell_type": "code",
   "execution_count": 1,
   "id": "8ddfca1d-4771-4ef3-b3e9-98cfaae22e0e",
   "metadata": {},
   "outputs": [
    {
     "name": "stdout",
     "output_type": "stream",
     "text": [
      "(1, 2, 3, 4, 5, 6, 7, 8, 9, 10)\n"
     ]
    }
   ],
   "source": [
    "\"\"\"Q3. Write a python program to convert the given list of integers into a tuple of strings. Use map and\n",
    "lambda functions\"\"\"\n",
    "\n",
    "def convert(list):\n",
    "    return tuple(list)\n",
    "\n",
    "list = [1, 2, 3, 4, 5, 6, 7, 8, 9, 10]\n",
    "print(convert(list))"
   ]
  },
  {
   "cell_type": "code",
   "execution_count": 2,
   "id": "eb34e5a6-e6de-4287-b5de-1129a49c8586",
   "metadata": {},
   "outputs": [
    {
     "name": "stdout",
     "output_type": "stream",
     "text": [
      "Original list numbers:\n",
      "[1, 2, 3, 4, 5, 6, 7, 8, 9, 10, 11, 12, 13, 14, 15, 16, 17, 18, 19, 20, 21, 22, 23, 24, 25]\n",
      "\n",
      "Product of the said numbers (without using a for loop): 15511210043330985984000000\n"
     ]
    }
   ],
   "source": [
    "\"\"\"Q4. Write a python program using reduce function to compute the product of a list containing numbers\n",
    "from 1 to 25.\n",
    "\"\"\"\n",
    "\n",
    "from functools import reduce\n",
    "\n",
    "# Define a list named 'nums' containing a series of integers.\n",
    "nums = [1,2,3,4,5,6,7,8,9,10,11,12,13,14,15,16,17,18,19,20,21,22,23,24,25]\n",
    "\n",
    "# Print a message along with the original list of numbers.\n",
    "print(\"Original list numbers:\")\n",
    "print(nums)\n",
    "\n",
    "# Calculate the product of the numbers in the list 'nums' using the 'reduce' function\n",
    "# and a lambda function that multiplies two numbers.\n",
    "nums_product = reduce((lambda x, y: x * y), nums)\n",
    "\n",
    "# Print the product of the numbers, obtained without using a for loop.\n",
    "print(\"\\nProduct of the said numbers (without using a for loop):\", nums_product)\n"
   ]
  },
  {
   "cell_type": "code",
   "execution_count": null,
   "id": "89ad01cf-0a1a-4688-a460-b28aa0d4042b",
   "metadata": {},
   "outputs": [],
   "source": [
    "\"\"\"Q5. Write a python program to filter the numbers in a given list that are divisible by 2 and 3 using the\n",
    "filter function.\n",
    "\"\"\"\n",
    "from functools import reduce\n",
    "\n",
    "l3 = [2, 3, 6, 9, 27, 60, 90, 120, 55, 46]\n",
    "\n",
    "result = list(filter(lambda x : (x % 2==0), l3))\n",
    "\n",
    "print(\"Number divisibal by 2\",result)\n",
    "\n",
    "result = list(filter(lambda x : (x % 3==0), l3))\n",
    "\n",
    "print(\"Number divisibal by 3\",result)"
   ]
  },
  {
   "cell_type": "code",
   "execution_count": null,
   "id": "9da46d80-de42-4b2b-9513-4adcb4aae074",
   "metadata": {},
   "outputs": [],
   "source": [
    "\"\"\"Q6. Write a python program to find palindromes in the given list of strings using lambda and filter\n",
    "function.\n",
    "\"\"\"\n",
    "\n",
    "l2 = ['python', 'php', 'aba', 'radar', 'level']\n",
    "print(\"Original list of string:\")\n",
    "print(l2)\n",
    "\n",
    "result = list(filter(lambda x : (x == \"\".join(reversed(x))), l2))\n",
    "\n",
    "print(\"\\nList of palindrom:\")\n",
    "print(result)"
   ]
  },
  {
   "cell_type": "code",
   "execution_count": null,
   "id": "befe628d-3464-42b2-b6ba-3e5bd53d6a78",
   "metadata": {},
   "outputs": [],
   "source": []
  },
  {
   "cell_type": "code",
   "execution_count": null,
   "id": "b1214914-ca0f-4918-9f84-439b3f29351a",
   "metadata": {},
   "outputs": [],
   "source": []
  }
 ],
 "metadata": {
  "kernelspec": {
   "display_name": "Python 3 (ipykernel)",
   "language": "python",
   "name": "python3"
  },
  "language_info": {
   "codemirror_mode": {
    "name": "ipython",
    "version": 3
   },
   "file_extension": ".py",
   "mimetype": "text/x-python",
   "name": "python",
   "nbconvert_exporter": "python",
   "pygments_lexer": "ipython3",
   "version": "3.10.8"
  }
 },
 "nbformat": 4,
 "nbformat_minor": 5
}
